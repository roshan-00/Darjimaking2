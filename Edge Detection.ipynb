{
 "cells": [
  {
   "cell_type": "code",
   "execution_count": 1,
   "metadata": {},
   "outputs": [],
   "source": [
    "import numpy as np\n",
    "import cv2"
   ]
  },
  {
   "cell_type": "code",
   "execution_count": null,
   "metadata": {},
   "outputs": [],
   "source": [
    "#Press ESC key to stop the video"
   ]
  },
  {
   "cell_type": "code",
   "execution_count": 2,
   "metadata": {},
   "outputs": [],
   "source": [
    "#haarcascade_upperbody\n",
    "upper_body = cv2.CascadeClassifier('haarcascade_upperbody.xml')\n",
    "\n",
    "# capture frames from a camera \n",
    "cap = cv2.VideoCapture(0) \n",
    "\n",
    "\n",
    "# loop runs if capturing has been initialized \n",
    "while(1): \n",
    "\n",
    "\t# reads frames from a camera \n",
    "\tret, frame = cap.read() \n",
    "\n",
    "\t# converting BGR to HSV \n",
    "\thsv = cv2.cvtColor(frame, cv2.COLOR_BGR2HSV) \n",
    "\t\n",
    "\t# define range of red color in HSV \n",
    "\tlower_red = np.array([122, 122, 122]) \n",
    "\tupper_red = np.array([255,255,255]) \n",
    "\t\n",
    "\t# create a red HSV colour boundary and \n",
    "\t# threshold HSV image \n",
    "\tmask = cv2.inRange(hsv, lower_red, upper_red) \n",
    "    \n",
    "\t# Bitwise-AND mask and original image \n",
    "\tres = cv2.bitwise_and(frame,frame, mask= mask) \n",
    "\n",
    "\t# Display an original image \n",
    "\tcv2.imshow('Original',frame) \n",
    "\n",
    "\t# finds edges in the input image image and \n",
    "\t# marks them in the output map edges \n",
    "\t#vid1 = cv2.GaussianBlur(hsv,(3,3),0)\n",
    "\tedges = cv2.Canny(frame,100,250) \n",
    "\tkernel = np.ones((2,2))\n",
    "\tedge_detect = cv2.dilate(edges, kernel, iterations=3)\n",
    "\tedge_detect = cv2.erode(edge_detect, kernel, iterations=2)\n",
    "\n",
    "\t# Display edges in a frame \n",
    "\tcv2.imshow('Edges',edge_detect) \n",
    "\n",
    "\t# Wait for Esc key to stop \n",
    "\tk = cv2.waitKey(5) & 0xFF\n",
    "\tif k == 27: \n",
    "\t\tbreak\n",
    "\n",
    "\n",
    "# Close the window \n",
    "cap.release() \n",
    "\n",
    "# De-allocate any associated memory usage \n",
    "cv2.destroyAllWindows() "
   ]
  },
  {
   "cell_type": "code",
   "execution_count": null,
   "metadata": {},
   "outputs": [],
   "source": []
  }
 ],
 "metadata": {
  "kernelspec": {
   "display_name": "Python 3",
   "language": "python",
   "name": "python3"
  },
  "language_info": {
   "codemirror_mode": {
    "name": "ipython",
    "version": 3
   },
   "file_extension": ".py",
   "mimetype": "text/x-python",
   "name": "python",
   "nbconvert_exporter": "python",
   "pygments_lexer": "ipython3",
   "version": "3.8.3"
  }
 },
 "nbformat": 4,
 "nbformat_minor": 4
}
